{
 "cells": [
  {
   "cell_type": "code",
   "execution_count": 5,
   "metadata": {},
   "outputs": [],
   "source": [
    "import numpy as np \n",
    "import matplotlib.pyplot as plt \n",
    "from scipy.ndimage import gaussian_filter\n"
   ]
  },
  {
   "cell_type": "code",
   "execution_count": 6,
   "metadata": {},
   "outputs": [],
   "source": [
    "#Make two images\n",
    "img_binary = np.zeros((1600, 1600))\n",
    "img_binary[:,:799] = 255\n",
    "img_checkerboard = np.zeros((1600, 1600))\n",
    "\n",
    "for row in range(img_checkerboard.shape[0]):\n",
    "    for col in range(img_checkerboard.shape[1]):\n",
    "\n",
    "        checker_size = 200   #1600 / checker_size should be int\n",
    "        r, c = (row // checker_size) % 2 == 0, (col // checker_size) % 2 == 0\n",
    "        \n",
    "        if r != c:\n",
    "            img_checkerboard[row, col] = 255"
   ]
  },
  {
   "cell_type": "code",
   "execution_count": 7,
   "metadata": {},
   "outputs": [],
   "source": [
    "#Blur image \n",
    "sigma = 55\n",
    "blurred_binary = gaussian_filter(img_binary, sigma=sigma)\n",
    "blurred_checkerboard = gaussian_filter(img_checkerboard, sigma=sigma)\n"
   ]
  },
  {
   "cell_type": "code",
   "execution_count": null,
   "metadata": {},
   "outputs": [],
   "source": [
    "#Plot original and blurred image\n",
    "fig, ax = plt.subplots(2,4, figsize=(10,5))\n",
    "ax[0,0].imshow(img_binary, cmap='gray')\n",
    "ax[0,0].set_title('Binary Image')\n",
    "ax[0,1].imshow(img_checkerboard, cmap='gray')\n",
    "ax[0,1].set_title('Checkerboard Image')\n",
    "\n",
    "ax[0,2].imshow(blurred_binary, cmap='gray')\n",
    "ax[0,2].set_title('Blurred Binary Image')\n",
    "ax[0,3].imshow(blurred_checkerboard, cmap='gray')\n",
    "ax[0,3].set_title('Blurred Checkerboard Image')\n",
    "\n",
    "ax[1,0].hist(img_binary.flatten(), 255)\n",
    "ax[1,0].set_title('Binary Image Histogram')\n",
    "ax[1,1].hist(img_checkerboard.flatten(), 255)\n",
    "ax[1,1].set_title('Checkerboard Image Histogram')\n",
    "\n",
    "ax[1,2].hist(blurred_binary.flatten(), 255)\n",
    "ax[1,2].set_title('Blurred Binary Image \\nHistogram')\n",
    "ax[1,3].hist(blurred_checkerboard.flatten(), 255)\n",
    "ax[1,3].set_title('Blurred Checkerboard \\nImage Histogram')\n",
    "\n",
    "for a in ax[0,:]: \n",
    "    a.set_xticks([])\n",
    "    a.set_yticks([])\n",
    "\n",
    "plt.tight_layout()\n",
    "plt.show()"
   ]
  }
 ],
 "metadata": {
  "kernelspec": {
   "display_name": "env",
   "language": "python",
   "name": "python3"
  },
  "language_info": {
   "codemirror_mode": {
    "name": "ipython",
    "version": 3
   },
   "file_extension": ".py",
   "mimetype": "text/x-python",
   "name": "python",
   "nbconvert_exporter": "python",
   "pygments_lexer": "ipython3",
   "version": "3.11.5"
  }
 },
 "nbformat": 4,
 "nbformat_minor": 2
}
