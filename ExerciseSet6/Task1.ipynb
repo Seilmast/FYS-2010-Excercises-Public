{
 "cells": [
  {
   "cell_type": "code",
   "execution_count": null,
   "metadata": {},
   "outputs": [
    {
     "ename": "",
     "evalue": "",
     "output_type": "error",
     "traceback": [
      "\u001b[1;31mRunning cells with 'Python 3.12.3' requires the ipykernel package.\n",
      "\u001b[1;31mRun the following command to install 'ipykernel' into the Python environment. \n",
      "\u001b[1;31mCommand: '/bin/python3 -m pip install ipykernel -U --user --force-reinstall'"
     ]
    }
   ],
   "source": [
    "import numpy as np"
   ]
  },
  {
   "cell_type": "markdown",
   "metadata": {},
   "source": [
    "# 6.1\n",
    "\n",
    "Give the percentage of red (X), green (Y) and blue (Z) light required to generate the point labelled \"warm white\" in the chromatic diagram given in the image below."
   ]
  },
  {
   "cell_type": "markdown",
   "metadata": {},
   "source": [
    "![chromaticity](chromaticity.png)"
   ]
  },
  {
   "cell_type": "markdown",
   "metadata": {},
   "source": [
    "## Solutoin\n",
    "\n",
    "The amount of red, green and blue in any colour is called the _tristimulus_ values and are:\n",
    "\n",
    "$$x = \\frac{X}{X+Y+Z}, y = \\frac{Y}{X+Y+Z}, z = \\frac{X}{X+Y+Z}$$\n",
    "\n",
    "such that $x+y+z=1$. \n",
    "\n",
    "In orde to use the CIA _chromaticity diagram_ above, we need to read off the $x$ and $y$ value and find $z=1-(x+y)$.\n",
    "\n",
    "For the point marked \"warm white\" we read off $x\\approx0.42$ and $y\\approx0.40$ which means that:"
   ]
  },
  {
   "cell_type": "code",
   "execution_count": null,
   "metadata": {},
   "outputs": [],
   "source": []
  }
 ],
 "metadata": {
  "kernelspec": {
   "display_name": ".venv",
   "language": "python",
   "name": "python3"
  },
  "language_info": {
   "name": "python",
   "version": "3.12.3"
  }
 },
 "nbformat": 4,
 "nbformat_minor": 2
}
