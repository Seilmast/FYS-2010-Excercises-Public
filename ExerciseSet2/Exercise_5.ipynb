{
 "cells": [
  {
   "cell_type": "code",
   "execution_count": 1,
   "metadata": {},
   "outputs": [],
   "source": [
    "import numpy as np\n",
    "import matplotlib.pyplot as plt "
   ]
  },
  {
   "cell_type": "code",
   "execution_count": 2,
   "metadata": {},
   "outputs": [
    {
     "name": "stdout",
     "output_type": "stream",
     "text": [
      "Initial range: 0.0 to 100.0\n",
      "Initial range: -10.0 to 10.0\n"
     ]
    }
   ],
   "source": [
    "def new_range(im, min_val = 0, max_val = 1.0):\n",
    "    '''\n",
    "        im: Any matrix of intensities.\n",
    "        min_val, max_val: define the new range going from [min_val, max_val].\n",
    "    '''\n",
    "    im_min, im_max = np.min(im), np.max(im)\n",
    "    new_min, new_max = min_val, max_val\n",
    "\n",
    "    im_range = im_max - im_min \n",
    "    new_range = new_max - new_min\n",
    "\n",
    "\n",
    "    t = ((im - im_min)*new_range / im_range) + new_min\n",
    "    return t\n",
    "\n",
    "\n",
    "some_range = np.linspace(0, 100, num=100)\n",
    "print(f'Initial range: {np.min(some_range)} to {np.max(some_range)}')\n",
    "some_new_range = new_range(some_range, min_val=-10, max_val = 10)\n",
    "print(f'Initial range: {np.min(some_new_range)} to {np.max(some_new_range)}')\n"
   ]
  }
 ],
 "metadata": {
  "kernelspec": {
   "display_name": "env",
   "language": "python",
   "name": "python3"
  },
  "language_info": {
   "codemirror_mode": {
    "name": "ipython",
    "version": 3
   },
   "file_extension": ".py",
   "mimetype": "text/x-python",
   "name": "python",
   "nbconvert_exporter": "python",
   "pygments_lexer": "ipython3",
   "version": "3.11.5"
  }
 },
 "nbformat": 4,
 "nbformat_minor": 2
}
