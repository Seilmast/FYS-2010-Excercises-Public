{
 "cells": [
  {
   "cell_type": "code",
   "execution_count": 10,
   "metadata": {},
   "outputs": [
    {
     "name": "stderr",
     "output_type": "stream",
     "text": [
      "/tmp/ipykernel_318127/1281229568.py:2: DeprecationWarning: Please import `rotate` from the `scipy.ndimage` namespace; the `scipy.ndimage.interpolation` namespace is deprecated and will be removed in SciPy 2.0.0.\n",
      "  from scipy.ndimage.interpolation import rotate\n"
     ]
    }
   ],
   "source": [
    "import numpy as np\n",
    "from scipy.ndimage.interpolation import rotate\n",
    "import matplotlib.pyplot as plt "
   ]
  },
  {
   "cell_type": "code",
   "execution_count": 11,
   "metadata": {},
   "outputs": [
    {
     "name": "stdout",
     "output_type": "stream",
     "text": [
      "This matrix is a matrix of only zeros, and the shape 7x8:\n",
      "[[0. 0. 0. 0. 0. 0. 0. 0.]\n",
      " [0. 0. 0. 0. 0. 0. 0. 0.]\n",
      " [0. 0. 0. 0. 0. 0. 0. 0.]\n",
      " [0. 0. 0. 0. 0. 0. 0. 0.]\n",
      " [0. 0. 0. 0. 0. 0. 0. 0.]\n",
      " [0. 0. 0. 0. 0. 0. 0. 0.]\n",
      " [0. 0. 0. 0. 0. 0. 0. 0.]]\n",
      "\n"
     ]
    }
   ],
   "source": [
    "#Task a \n",
    "A = np.zeros((7,8))\n",
    "\n",
    "print(f'This matrix is a matrix of only zeros, and the shape 7x8:\\n{A}\\n')\n"
   ]
  },
  {
   "cell_type": "code",
   "execution_count": 12,
   "metadata": {},
   "outputs": [
    {
     "name": "stdout",
     "output_type": "stream",
     "text": [
      "Matrix A has gotten some new values:\n",
      "[[1. 2. 3. 0. 0. 0. 0. 0.]\n",
      " [1. 2. 3. 0. 0. 0. 0. 0.]\n",
      " [1. 2. 3. 0. 0. 0. 0. 0.]\n",
      " [1. 2. 3. 0. 0. 0. 0. 0.]\n",
      " [1. 2. 3. 0. 0. 0. 5. 0.]\n",
      " [1. 2. 3. 0. 0. 0. 8. 0.]\n",
      " [1. 2. 3. 0. 0. 0. 0. 0.]]\n",
      "\n"
     ]
    }
   ],
   "source": [
    "#task b\n",
    "#Tips: A quick way to select either an entire row, column, or dimension in general\n",
    "#is to use semicolon to select the entire dimension. E.g. A[:,0] will select column 0 on all rows and return them as an array, or A[0,:] will select all columns on row 0\n",
    "A[:,2] = 3\n",
    "A[:,0] = 1 #Give the first column the value 1\n",
    "A[:,1] = 2 #Give the second column the value 2\n",
    "\n",
    "\n",
    "A[4,6] = 5 #Give position (5,7) the value 5 (Remember in python indexes start at zero)\n",
    "A[5,6] = 8 #Give position (6,7) the value 5 (Remember in python indexes start at zero)\n",
    "\n",
    "print(f'Matrix A has gotten some new values:\\n{A}\\n')\n"
   ]
  },
  {
   "cell_type": "code",
   "execution_count": 13,
   "metadata": {},
   "outputs": [
    {
     "name": "stdout",
     "output_type": "stream",
     "text": [
      "The unique values of matrix A is [0. 1. 2. 3. 5. 8.]\n",
      "\n"
     ]
    }
   ],
   "source": [
    "#Task c\n",
    "unique_values_A = np.unique(A)\n",
    "print(f'The unique values of matrix A is {unique_values_A}\\n')"
   ]
  },
  {
   "cell_type": "code",
   "execution_count": 14,
   "metadata": {},
   "outputs": [
    {
     "name": "stdout",
     "output_type": "stream",
     "text": [
      "Matrix B has been generated randombly with the shape 8x7:\n",
      "[[7 6 2 6 6 3 2]\n",
      " [9 6 6 3 6 3 5]\n",
      " [1 4 1 4 5 5 2]\n",
      " [9 0 0 4 4 8 3]\n",
      " [9 9 8 0 3 2 6]\n",
      " [9 3 0 8 7 1 7]\n",
      " [7 6 0 6 7 7 8]\n",
      " [0 3 5 7 4 4 9]]\n",
      "\n",
      "The shape of matrix A is: (7, 8)\n",
      "The shape of matrix B is: (8, 7)\n"
     ]
    }
   ],
   "source": [
    "#Task d\n",
    "B = np.random.randint(0, 10, size=(8,7)) #Create a random matrix of size 8x7 with values between 0 and 10. \n",
    "print(f'Matrix B has been generated randombly with the shape 8x7:\\n{B}\\n')\n",
    "\n",
    "#Tips: If you're uncertain in you matrix's shape, use the numpy .shape feature to find out. \n",
    "print(f\"The shape of matrix A is: {A.shape}\")\n",
    "print(f\"The shape of matrix B is: {B.shape}\")\n"
   ]
  },
  {
   "cell_type": "code",
   "execution_count": 15,
   "metadata": {},
   "outputs": [
    {
     "name": "stdout",
     "output_type": "stream",
     "text": [
      "The shape of matrix C is: (7, 7)\n",
      "The shape of matrix C is: (7, 7)\n",
      "The shape of matrix C is: (7, 7)\n"
     ]
    }
   ],
   "source": [
    "#Task e\n",
    "#There are a few ways to perform a matrix multiplication in python. \n",
    "#The simplest however is to use the @ operator \n",
    "C = A@B\n",
    "print(f\"The shape of matrix C is: {C.shape}\")\n",
    "\n",
    "#Alternatively \n",
    "C = A.dot(B)\n",
    "print(f\"The shape of matrix C is: {C.shape}\")\n",
    "C = np.dot(A,B)\n",
    "print(f\"The shape of matrix C is: {C.shape}\")"
   ]
  },
  {
   "cell_type": "code",
   "execution_count": 16,
   "metadata": {},
   "outputs": [
    {
     "name": "stdout",
     "output_type": "stream",
     "text": [
      "Matrix A looks like this:\n",
      "[[1. 2. 3. 0. 0. 0. 0. 0.]\n",
      " [1. 2. 3. 0. 0. 0. 0. 0.]\n",
      " [1. 2. 3. 0. 0. 0. 0. 0.]\n",
      " [1. 2. 3. 0. 0. 0. 0. 0.]\n",
      " [1. 2. 3. 0. 0. 0. 5. 0.]\n",
      " [1. 2. 3. 0. 0. 0. 8. 0.]\n",
      " [1. 2. 3. 0. 0. 0. 0. 0.]]\n",
      "\n",
      "A can be flipped upside down to look like this:\n",
      "[[0. 0. 0. 0. 0. 3. 2. 1.]\n",
      " [0. 0. 0. 0. 0. 3. 2. 1.]\n",
      " [0. 0. 0. 0. 0. 3. 2. 1.]\n",
      " [0. 0. 0. 0. 0. 3. 2. 1.]\n",
      " [0. 5. 0. 0. 0. 3. 2. 1.]\n",
      " [0. 8. 0. 0. 0. 3. 2. 1.]\n",
      " [0. 0. 0. 0. 0. 3. 2. 1.]]\n",
      "\n",
      "We can also flip the same matrix from left to right as such:\n",
      "[[0. 0. 0. 0. 0. 3. 2. 1.]\n",
      " [0. 8. 0. 0. 0. 3. 2. 1.]\n",
      " [0. 5. 0. 0. 0. 3. 2. 1.]\n",
      " [0. 0. 0. 0. 0. 3. 2. 1.]\n",
      " [0. 0. 0. 0. 0. 3. 2. 1.]\n",
      " [0. 0. 0. 0. 0. 3. 2. 1.]\n",
      " [0. 0. 0. 0. 0. 3. 2. 1.]]\n",
      "\n",
      "We can also manipulate  A by rotating the matrix by 90 degrees as such:\n",
      "[[0. 0. 0. 0. 0. 0. 0.]\n",
      " [0. 0. 0. 0. 5. 8. 0.]\n",
      " [0. 0. 0. 0. 0. 0. 0.]\n",
      " [0. 0. 0. 0. 0. 0. 0.]\n",
      " [0. 0. 0. 0. 0. 0. 0.]\n",
      " [3. 3. 3. 3. 3. 3. 3.]\n",
      " [2. 2. 2. 2. 2. 2. 2.]\n",
      " [1. 1. 1. 1. 1. 1. 1.]]\n",
      "Rotating A by 37 degrees gives us a new matrix with shape (7, 8), and values:\n",
      "[[ 0.00000000e+00  0.00000000e+00  0.00000000e+00  0.00000000e+00\n",
      "   0.00000000e+00  0.00000000e+00  0.00000000e+00  0.00000000e+00\n",
      "   0.00000000e+00  0.00000000e+00  0.00000000e+00]\n",
      " [ 0.00000000e+00  0.00000000e+00  0.00000000e+00  0.00000000e+00\n",
      "   0.00000000e+00 -2.25259665e-02 -6.04494874e-03  0.00000000e+00\n",
      "   0.00000000e+00  0.00000000e+00  0.00000000e+00]\n",
      " [ 0.00000000e+00  0.00000000e+00  0.00000000e+00  0.00000000e+00\n",
      "   7.59394390e-02 -6.47514096e-04  8.46516304e-02 -4.60909305e-02\n",
      "   0.00000000e+00  0.00000000e+00  0.00000000e+00]\n",
      " [ 0.00000000e+00  0.00000000e+00  0.00000000e+00  5.07027645e-01\n",
      "  -2.67964970e-01  8.24900577e-02 -8.59251957e-02  1.25673128e-02\n",
      "   2.48180791e-01  0.00000000e+00  0.00000000e+00]\n",
      " [ 0.00000000e+00  1.38717145e+00  2.76924781e+00  2.55511405e+00\n",
      "  -4.57113475e-03 -1.44914866e-01 -1.36985774e-02  1.80682528e+00\n",
      "   6.62330741e+00  4.58138757e-04  0.00000000e+00]\n",
      " [ 0.00000000e+00  1.00002348e+00  1.66215385e+00  3.03896312e+00\n",
      "   1.92838680e+00 -2.53545578e-01  1.38207130e-03 -9.61198208e-01\n",
      "   4.83634192e+00  3.91777878e-01  0.00000000e+00]\n",
      " [ 0.00000000e+00  0.00000000e+00  1.04494991e+00  2.00001202e+00\n",
      "   3.14828806e+00  1.14990549e+00 -7.81148453e-02 -1.70051591e-01\n",
      "   0.00000000e+00  0.00000000e+00  0.00000000e+00]\n",
      " [ 0.00000000e+00  0.00000000e+00  0.00000000e+00  1.16997685e+00\n",
      "   2.39109412e+00  3.00714278e+00  5.22441945e-01  0.00000000e+00\n",
      "   0.00000000e+00  0.00000000e+00  0.00000000e+00]\n",
      " [ 0.00000000e+00  0.00000000e+00  0.00000000e+00  0.00000000e+00\n",
      "   1.36948652e+00  2.75162939e+00  0.00000000e+00  0.00000000e+00\n",
      "   0.00000000e+00  0.00000000e+00  0.00000000e+00]\n",
      " [ 0.00000000e+00  0.00000000e+00  0.00000000e+00  0.00000000e+00\n",
      "   0.00000000e+00  0.00000000e+00  0.00000000e+00  0.00000000e+00\n",
      "   0.00000000e+00  0.00000000e+00  0.00000000e+00]]\n"
     ]
    }
   ],
   "source": [
    "#Task f\n",
    "print(f'Matrix A looks like this:\\n{A}\\n')\n",
    "\n",
    "A_flipped = np.flip(A, axis=1)\n",
    "print(f'A can be flipped upside down to look like this:\\n{A_flipped}\\n')\n",
    "\n",
    "A_flipped = np.flip(A_flipped, axis=0)\n",
    "print(f'We can also flip the same matrix from left to right as such:\\n{A_flipped}\\n')\n",
    "\n",
    "A_rotated = np.rot90(A, k=1, axes=(0, 1))\n",
    "print(f'We can also manipulate  A by rotating the matrix by 90 degrees as such:\\n{A_rotated}')\n",
    "#This is equal to transposing matrix A, which could be done as easy as writing A.T\n",
    "\n",
    "#Lastly we can rotate an image to any degrees with the scipy function rotate\n",
    "A_rotated = rotate(A, 37, axes=(0,1))\n",
    "print(f'Rotating A by 37 degrees gives us a new matrix with shape {A.shape}, and values:\\n{A_rotated}')\n"
   ]
  },
  {
   "cell_type": "markdown",
   "metadata": {},
   "source": [
    "So what does rotating the matrix mean? Lets first look at how it changes the matrix\n",
    "The code below is not needed for the exercise, but will hopefully give some insight into what is going on.\n"
   ]
  },
  {
   "cell_type": "code",
   "execution_count": 17,
   "metadata": {},
   "outputs": [
    {
     "data": {
      "image/png": "[encoded data removed]",
      "text/plain": [
       "<Figure size 1000x1000 with 2 Axes>"
      ]
     },
     "metadata": {},
     "output_type": "display_data"
    }
   ],
   "source": [
    "fig, ax = plt.subplots(1,2, figsize=(10,10), sharex=True, sharey=True)\n",
    "ax[0].matshow(A)\n",
    "ax[0].set_title('Matrix A')\n",
    "ax[1].matshow(A_rotated)\n",
    "ax[1].set_title(\"Rotated Matrix A\")\n",
    "\n",
    "for a in ax.ravel():\n",
    "    a.axis('off')\n",
    "\n",
    "plt.tight_layout()\n",
    "plt.show()"
   ]
  },
  {
   "cell_type": "markdown",
   "metadata": {},
   "source": [
    "As you can hopefully see, the matrix has actually rotated. \n",
    "If you've had the linear algebra course, you might remember the rotation matrix. \n",
    "This has been applies to the image, and is has rotated along some axis.  \n"
   ]
  },
  {
   "cell_type": "code",
   "execution_count": 18,
   "metadata": {},
   "outputs": [],
   "source": [
    "#Task g\n",
    "#We'll save the 37 degree matrix to the folder misc\n",
    "\n",
    "np.savetxt('misc/rotated_matrix.csv', A_rotated, delimiter=',')"
   ]
  }
 ],
 "metadata": {
  "kernelspec": {
   "display_name": "env",
   "language": "python",
   "name": "python3"
  },
  "language_info": {
   "codemirror_mode": {
    "name": "ipython",
    "version": 3
   },
   "file_extension": ".py",
   "mimetype": "text/x-python",
   "name": "python",
   "nbconvert_exporter": "python",
   "pygments_lexer": "ipython3",
   "version": "3.11.5"
  }
 },
 "nbformat": 4,
 "nbformat_minor": 2
}
